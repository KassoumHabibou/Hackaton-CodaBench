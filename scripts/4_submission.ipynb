{
 "cells": [
  {
   "cell_type": "markdown",
   "metadata": {},
   "source": [
    "# Model 2: High resolution prediction of flood maps"
   ]
  },
  {
   "cell_type": "code",
   "execution_count": null,
   "metadata": {},
   "outputs": [],
   "source": [
    "import numpy as np\n",
    "import pandas as pd\n",
    "import xarray as xr\n",
    "import shutil"
   ]
  },
  {
   "cell_type": "markdown",
   "metadata": {},
   "source": [
    "Loading of the previously computed predictions"
   ]
  },
  {
   "cell_type": "code",
   "execution_count": null,
   "metadata": {},
   "outputs": [],
   "source": [
    "predictions = xr.open_dataset(\"localdata/Model2_Score_Full_Rez_inf.nc\")"
   ]
  },
  {
   "cell_type": "markdown",
   "metadata": {},
   "source": [
    "**The submission file should be a flatten vector**\n",
    "\n",
    "Conversion to vector"
   ]
  },
  {
   "cell_type": "code",
   "execution_count": null,
   "metadata": {},
   "outputs": [],
   "source": [
    "def from_xarray_to_vector(data: xr.DataArray):\n",
    "    xry = data.M2_score.values\n",
    "    vectors = xry.reshape(xry.shape[0], xry.shape[1]*xry.shape[2])\n",
    "    vector = vectors.flatten()\n",
    "    final_label_Full_Rez = xr.open_dataset(\"localdata/raw/relevent_data_tag_binary_mask.nc\")\n",
    "    ws = final_label_Full_Rez[\"__xarray_dataarray_variable__\"].values\n",
    "    mask = np.invert(np.isnan(np.where(ws == -1, np.nan, ws)))\n",
    "    mask = np.repeat(mask, xry.shape[0])\n",
    "    return vector[mask].astype('float16')"
   ]
  },
  {
   "cell_type": "code",
   "execution_count": null,
   "metadata": {},
   "outputs": [],
   "source": [
    "out = from_xarray_to_vector(predictions)"
   ]
  },
  {
   "cell_type": "code",
   "execution_count": 24,
   "metadata": {},
   "outputs": [],
   "source": [
    "pd.DataFrame(out).to_csv(\"localdata/pred.csv\")\n",
    "shutil.make_archive(\"localdata/pred.csv\", 'zip', \"localdata\",\"pred.csv\")"
   ]
  }
 ],
 "metadata": {
  "kernelspec": {
   "display_name": "clean_geo_env_dav_5",
   "language": "python",
   "name": "python3"
  },
  "language_info": {
   "codemirror_mode": {
    "name": "ipython",
    "version": 3
   },
   "file_extension": ".py",
   "mimetype": "text/x-python",
   "name": "python",
   "nbconvert_exporter": "python",
   "pygments_lexer": "ipython3",
   "version": "3.8.18"
  }
 },
 "nbformat": 4,
 "nbformat_minor": 4
}
